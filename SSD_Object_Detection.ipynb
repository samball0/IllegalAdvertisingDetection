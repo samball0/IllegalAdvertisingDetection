{
 "cells": [
  {
   "cell_type": "code",
   "execution_count": null,
   "metadata": {
    "colab": {
     "base_uri": "https://localhost:8080/"
    },
    "executionInfo": {
     "elapsed": 25763,
     "status": "ok",
     "timestamp": 1678796881294,
     "user": {
      "displayName": "Sam Lynch",
      "userId": "01186849635844537829"
     },
     "user_tz": 0
    },
    "id": "PjwCTsPCB8xG",
    "outputId": "382234f4-49b8-45d8-aca3-f3f72c2dd690"
   },
   "outputs": [],
   "source": [
    "from google.colab import drive\n",
    "drive.mount('/content/drive')"
   ]
  },
  {
   "cell_type": "code",
   "execution_count": null,
   "metadata": {
    "colab": {
     "base_uri": "https://localhost:8080/"
    },
    "executionInfo": {
     "elapsed": 7,
     "status": "ok",
     "timestamp": 1678796881295,
     "user": {
      "displayName": "Sam Lynch",
      "userId": "01186849635844537829"
     },
     "user_tz": 0
    },
    "id": "R8WF5rl4qlgJ",
    "outputId": "f1a90687-10e4-42f3-8f06-7902bb8b3676"
   },
   "outputs": [],
   "source": [
    "\n",
    "## Run this if you want to access models from google drive\n",
    "import os\n",
    "print(os.getcwd())\n",
    "!ls"
   ]
  },
  {
   "cell_type": "code",
   "execution_count": null,
   "metadata": {
    "colab": {
     "base_uri": "https://localhost:8080/"
    },
    "executionInfo": {
     "elapsed": 71805,
     "status": "ok",
     "timestamp": 1678796953518,
     "user": {
      "displayName": "Sam Lynch",
      "userId": "01186849635844537829"
     },
     "user_tz": 0
    },
    "id": "av1MWU9JBfqI",
    "outputId": "c679a68b-30b9-40f6-8072-bd7f253d5e1d"
   },
   "outputs": [],
   "source": [
    "!pip install -U --pre tensorflow==\"2.10.1\""
   ]
  },
  {
   "cell_type": "code",
   "execution_count": null,
   "metadata": {
    "colab": {
     "base_uri": "https://localhost:8080/"
    },
    "executionInfo": {
     "elapsed": 257,
     "status": "ok",
     "timestamp": 1678796953770,
     "user": {
      "displayName": "Sam Lynch",
      "userId": "01186849635844537829"
     },
     "user_tz": 0
    },
    "id": "rHy0gYKbGgaW",
    "outputId": "9364089f-ee27-49d6-8734-6dc2e7e9f1c1"
   },
   "outputs": [],
   "source": [
    "import os\n",
    "import pathlib\n",
    "os.chdir('drive/My Drive/')\n",
    "print(os.getcwd())\n",
    "\n",
    "# Clone the tensorflow models repository if it doesn't already exist\n",
    "if \"models\" in pathlib.Path.cwd().parts:\n",
    "  while \"models\" in pathlib.Path.cwd().parts:\n",
    "    os.chdir('..')\n",
    "elif not pathlib.Path('models').exists():\n",
    "  !git clone --depth 1 https://github.com/tensorflow/models"
   ]
  },
  {
   "cell_type": "code",
   "execution_count": null,
   "metadata": {
    "colab": {
     "base_uri": "https://localhost:8080/"
    },
    "executionInfo": {
     "elapsed": 214224,
     "status": "ok",
     "timestamp": 1678797167992,
     "user": {
      "displayName": "Sam Lynch",
      "userId": "01186849635844537829"
     },
     "user_tz": 0
    },
    "id": "g2xy82jdIs9q",
    "outputId": "94021669-50fe-409c-86df-d334b82e530a"
   },
   "outputs": [],
   "source": [
    "# Object detection API\n",
    "%%bash\n",
    "cd models/research/\n",
    "protoc object_detection/protos/*.proto --python_out=.\n",
    "cp object_detection/packages/tf2/setup.py .\n",
    "python -m pip install ."
   ]
  },
  {
   "cell_type": "code",
   "execution_count": null,
   "metadata": {
    "colab": {
     "base_uri": "https://localhost:8080/"
    },
    "executionInfo": {
     "elapsed": 73750,
     "status": "ok",
     "timestamp": 1678797241724,
     "user": {
      "displayName": "Sam Lynch",
      "userId": "01186849635844537829"
     },
     "user_tz": 0
    },
    "id": "y18-5enwLKIr",
    "outputId": "bba711fa-f2ca-4499-ca82-e96469af76d4"
   },
   "outputs": [],
   "source": [
    "#run model builder test\n",
    "!python /content/drive/\"My Drive\"/models/research/object_detection/builders/model_builder_tf2_test.py"
   ]
  },
  {
   "cell_type": "code",
   "execution_count": null,
   "metadata": {
    "colab": {
     "base_uri": "https://localhost:8080/"
    },
    "executionInfo": {
     "elapsed": 26,
     "status": "ok",
     "timestamp": 1678732845478,
     "user": {
      "displayName": "Sam Lynch",
      "userId": "01186849635844537829"
     },
     "user_tz": 0
    },
    "id": "t9okmEunNvv9",
    "outputId": "edea3186-e897-45d0-a6e0-562d6eb34fbb"
   },
   "outputs": [],
   "source": [
    "print(os.getcwd())\n",
    "os.chdir('models')\n",
    "print(os.getcwd())"
   ]
  },
  {
   "cell_type": "code",
   "execution_count": null,
   "metadata": {
    "colab": {
     "base_uri": "https://localhost:8080/"
    },
    "executionInfo": {
     "elapsed": 205,
     "status": "ok",
     "timestamp": 1678716940265,
     "user": {
      "displayName": "Sam Lynch",
      "userId": "01186849635844537829"
     },
     "user_tz": 0
    },
    "id": "IOustDu3N6fO",
    "outputId": "f67937cd-b6e1-43d6-eaf5-fcce96423c8a"
   },
   "outputs": [],
   "source": [
    "os.chdir('train')\n",
    "print(os.getcwd())\n",
    "#os.mkdir('train')\n",
    "!ls"
   ]
  },
  {
   "cell_type": "code",
   "execution_count": null,
   "metadata": {
    "colab": {
     "base_uri": "https://localhost:8080/"
    },
    "executionInfo": {
     "elapsed": 19,
     "status": "ok",
     "timestamp": 1678797241725,
     "user": {
      "displayName": "Sam Lynch",
      "userId": "01186849635844537829"
     },
     "user_tz": 0
    },
    "id": "8xVr196mji2x",
    "outputId": "ba8cd156-a3a9-4b57-e8c0-3af4077dc352"
   },
   "outputs": [],
   "source": [
    "print(os.getcwd())\n",
    "os.chdir('/content/drive/My Drive/models')\n",
    "print(os.getcwd())"
   ]
  },
  {
   "cell_type": "code",
   "execution_count": null,
   "metadata": {
    "colab": {
     "base_uri": "https://localhost:8080/"
    },
    "executionInfo": {
     "elapsed": 38680,
     "status": "ok",
     "timestamp": 1678723272464,
     "user": {
      "displayName": "Sam Lynch",
      "userId": "01186849635844537829"
     },
     "user_tz": 0
    },
    "id": "H-pxhtyOjOTt",
    "outputId": "1932e7e4-1360-42b6-fd9c-7634b2f36d0f"
   },
   "outputs": [],
   "source": [
    "import os\n",
    "import glob\n",
    "import pandas as pd\n",
    "import xml.etree.ElementTree as ET\n",
    "\n",
    "def xml_to_csv(path):\n",
    "    xml_list = []\n",
    "    classes_names = []\n",
    "\n",
    "    for xml_file in glob.glob(path + '/*.xml'):\n",
    "        tree = ET.parse(xml_file)\n",
    "        root = tree.getroot()\n",
    "        for member in root.findall('object'):\n",
    "            value = (root.find('filename').text,\n",
    "                     int(root.find('size')[0].text),\n",
    "                     int(root.find('size')[1].text),\n",
    "                     member[0].text,\n",
    "                     int(member[4][0].text),\n",
    "                     int(member[4][1].text),\n",
    "                     int(member[4][2].text),\n",
    "                     int(member[4][3].text)\n",
    "                     )\n",
    "            xml_list.append(value)\n",
    "    column_name = ['filename', 'width', 'height', 'class', 'xmin', 'ymin', 'xmax', 'ymax']\n",
    "    xml_df = pd.DataFrame(xml_list, columns=column_name)\n",
    "    classes_names = list(set(classes_names))\n",
    "    classes_names.sort()\n",
    "\n",
    "    return xml_df, classes_names\n",
    "\n",
    "def main():\n",
    "    for directory in ['train', 'test']:\n",
    "        print(directory)\n",
    "        image_path = os.path.join(os.getcwd(), 'research/object_detection/images/{}'.format(directory))\n",
    "        xml_df, classes = xml_to_csv(image_path)\n",
    "        print(os.getcwd())\n",
    "        xml_df.to_csv('research/object_detection/data/{}_labels.csv'.format(directory), index=None)\n",
    "        print('Successfully converted xml to csv.')\n",
    "    \n",
    "\n",
    "main()"
   ]
  },
  {
   "cell_type": "code",
   "execution_count": null,
   "metadata": {
    "colab": {
     "base_uri": "https://localhost:8080/",
     "height": 1000
    },
    "executionInfo": {
     "elapsed": 12610,
     "status": "error",
     "timestamp": 1678723289725,
     "user": {
      "displayName": "Sam Lynch",
      "userId": "01186849635844537829"
     },
     "user_tz": 0
    },
    "id": "-2u8fJ0kjwNt",
    "outputId": "5cfc5b64-668d-45d3-8fbf-e358b50c816d"
   },
   "outputs": [],
   "source": [
    "# Convert csv to tf record files - To switch to a code based version so that the sys.exit dont take place.\n",
    "\n",
    "from __future__ import division\n",
    "from __future__ import print_function\n",
    "from __future__ import absolute_import\n",
    "\n",
    "import os\n",
    "import io\n",
    "import pandas as pd\n",
    "import tensorflow as tf\n",
    "\n",
    "from PIL import Image\n",
    "from object_detection.utils import dataset_util\n",
    "from collections import namedtuple, OrderedDict\n",
    "\n",
    "\"\"\"\n",
    "Usage:\n",
    "  # From tensorflow/models/\n",
    "\n",
    "  # Create train data:\n",
    "  python Generate_TF_Records.py --csv_input=data/train_labels.csv  --output_path=train.record\n",
    "\n",
    "  # Create test data:\n",
    "  python generate_tfrecord.py --csv_input=data/test_labels.csv  --output_path=test.record\n",
    "\n",
    "\"\"\"\n",
    "\n",
    "\n",
    "#flags = tf.compat.v1.flags\n",
    "#flags.DEFINE_string('csv_input', '', 'Path to the CSV input')\n",
    "#flags.DEFINE_string('output_path', '', 'Path to output TFRecord')\n",
    "#flags.DEFINE_string('image_dir', '', 'Path to images')\n",
    "#LAGS = flags.FLAGS\n",
    "\n",
    "# TO-DO replace this with label map\n",
    "\n",
    "def class_text_to_int(row_label):\n",
    "    if row_label == 'vinyl banner':\n",
    "        return 1\n",
    "    elif row_label == 'property sign':\n",
    "        return 2\n",
    "    else:\n",
    "        None\n",
    "\n",
    "def split(df, group):\n",
    "    data = namedtuple('data', ['filename', 'object'])\n",
    "    gb = df.groupby(group)\n",
    "    return [data(filename, gb.get_group(x)) for filename, x in zip(gb.groups.keys(), gb.groups)]\n",
    "\n",
    "def create_tf_example(group, path):\n",
    "    print(path)\n",
    "    print(group.filename)\n",
    "    with tf.compat.v1.gfile.GFile(os.path.join(path, '{}'.format(group.filename)), 'rb') as fid:\n",
    "        encoded_jpg = fid.read()\n",
    "    encoded_jpg_io = io.BytesIO(encoded_jpg)\n",
    "    image = Image.open(encoded_jpg_io)\n",
    "    width, height = image.size\n",
    "\n",
    "    filename = group.filename.encode('utf8')\n",
    "    image_format = b'jpg'\n",
    "    xmins = []\n",
    "    xmaxs = []\n",
    "    ymins = []\n",
    "    ymaxs = []\n",
    "    classes_text = []\n",
    "    classes = []\n",
    "\n",
    "    for index, row in group.object.iterrows():\n",
    "        xmins.append(row['xmin'] / width)\n",
    "        xmaxs.append(row['xmax'] / width)\n",
    "        ymins.append(row['ymin'] / height)\n",
    "        ymaxs.append(row['ymax'] / height)\n",
    "        classes_text.append(row['class'].encode('utf8'))\n",
    "        classes.append(class_text_to_int(row['class']))\n",
    "\n",
    "    tf_example = tf.train.Example(features=tf.train.Features(feature={\n",
    "        'image/height': dataset_util.int64_feature(height),\n",
    "        'image/width': dataset_util.int64_feature(width),\n",
    "        'image/filename': dataset_util.bytes_feature(filename),\n",
    "        'image/source_id': dataset_util.bytes_feature(filename),\n",
    "        'image/encoded': dataset_util.bytes_feature(encoded_jpg),\n",
    "        'image/format': dataset_util.bytes_feature(image_format),\n",
    "        'image/object/bbox/xmin': dataset_util.float_list_feature(xmins),\n",
    "        'image/object/bbox/xmax': dataset_util.float_list_feature(xmaxs),\n",
    "        'image/object/bbox/ymin': dataset_util.float_list_feature(ymins),\n",
    "        'image/object/bbox/ymax': dataset_util.float_list_feature(ymaxs),\n",
    "        'image/object/class/text': dataset_util.bytes_list_feature(classes_text),\n",
    "        'image/object/class/label': dataset_util.int64_list_feature(classes),\n",
    "    }))\n",
    "\n",
    "    return tf_example\n",
    "\n",
    "def main(_):\n",
    "    for directory in ['train', 'test']:\n",
    "      output_path = os.path.join(os.getcwd(), 'research/object_detection/data/{}.record'.format(directory))\n",
    "      print(output_path)\n",
    "      input_path = os.path.join(os.getcwd(), 'research/object_detection/data/{}_labels.csv'.format(directory))\n",
    "      print(input_path)\n",
    "      writer = tf.io.TFRecordWriter(output_path)\n",
    "      print(os.getcwd())\n",
    "      path = os.path.join(os.getcwd(), 'research/object_detection/images/{}'.format(directory))\n",
    "      print(path)\n",
    "      examples = pd.read_csv(input_path)\n",
    "      grouped = split(examples, 'filename')\n",
    "      for group in grouped:\n",
    "          tf_example = create_tf_example(group, path)\n",
    "          writer.write(tf_example.SerializeToString())\n",
    "\n",
    "      writer.close()\n",
    "      #output_path = os.path.join(os.getcwd(), FLAGS.output_path)\n",
    "      print('Successfully created the TFRecords: {}'.format(output_path))\n",
    "\n",
    "if __name__ == '__main__':\n",
    "    tf.compat.v1.app.run()\n",
    "     "
   ]
  },
  {
   "cell_type": "code",
   "execution_count": null,
   "metadata": {
    "colab": {
     "base_uri": "https://localhost:8080/"
    },
    "executionInfo": {
     "elapsed": 17,
     "status": "ok",
     "timestamp": 1678797241725,
     "user": {
      "displayName": "Sam Lynch",
      "userId": "01186849635844537829"
     },
     "user_tz": 0
    },
    "id": "AzGMrrWqVhi6",
    "outputId": "4432bc0e-e4d2-4c02-c2cc-864111802ba2"
   },
   "outputs": [],
   "source": [
    "os.chdir('/content/drive/My Drive/models/research/object_detection/images')\n",
    "os.chdir('/content/drive/My Drive/models/research/object_detection')\n",
    "print(os.getcwd())\n",
    "labelmap_path = os.path.join(os.getcwd(), 'data/label_map.pbtxt')\n",
    "train_record_path = os.path.join(os.getcwd(), 'data/train.record')\n",
    "test_record_path = os.path.join(os.getcwd(), 'data/test.record')\n",
    "print(test_record_path)\n",
    "print(train_record_path)"
   ]
  },
  {
   "cell_type": "code",
   "execution_count": null,
   "metadata": {
    "id": "nou78pvnZciR"
   },
   "outputs": [],
   "source": [
    "os.mkdir('pre-trained-models')\n",
    "os.chdir('pre-trained-models')\n",
    "os.mkdir('ssd_mobilenet_v2_fpnlite_640x640_coco17_tpu-8')\n",
    "os.chdir('ssd_mobilenet_v2_fpnlite_640x640_coco17_tpu-8')\n",
    "os.mkdir('checkpoint')\n",
    "os.mkdir('saved_model')"
   ]
  },
  {
   "cell_type": "code",
   "execution_count": null,
   "metadata": {
    "id": "-Qfe-LgGeT7e"
   },
   "outputs": [],
   "source": [
    "os.chdir('saved_model')\n",
    "os.mkdir('variables')"
   ]
  },
  {
   "cell_type": "code",
   "execution_count": null,
   "metadata": {
    "executionInfo": {
     "elapsed": 15,
     "status": "ok",
     "timestamp": 1678797241725,
     "user": {
      "displayName": "Sam Lynch",
      "userId": "01186849635844537829"
     },
     "user_tz": 0
    },
    "id": "PjNKAZ0de0E4"
   },
   "outputs": [],
   "source": [
    "os.chdir('/content/drive/My Drive/models/research/object_detection')\n",
    "fine_tune_checkpoint = 'pre-trained-models/ssd_mobilenet_v2_fpnlite_640x640_coco17_tpu-8/checkpoint/ckpt-0'\n",
    "base_config_path = 'pre-trained-models/ssd_mobilenet_v2_fpnlite_640x640_coco17_tpu-8/pipeline.config'"
   ]
  },
  {
   "cell_type": "code",
   "execution_count": null,
   "metadata": {
    "colab": {
     "base_uri": "https://localhost:8080/"
    },
    "executionInfo": {
     "elapsed": 245,
     "status": "ok",
     "timestamp": 1678719958700,
     "user": {
      "displayName": "Sam Lynch",
      "userId": "01186849635844537829"
     },
     "user_tz": 0
    },
    "id": "cfwEc0e-fPUr",
    "outputId": "1f846ed2-1d47-4778-d7e9-5698ea175a4f"
   },
   "outputs": [],
   "source": [
    "print(os.getcwd())\n",
    "\n",
    "# edit configuration file (from https://colab.research.google.com/drive/1sLqFKVV94wm-lglFq_0kGo2ciM0kecWD)\n",
    "\n",
    "batch_size = 12\n",
    "num_steps = 50000\n",
    "num_eval_steps = 1000\n",
    "\n",
    "import re\n",
    "\n",
    "with open(base_config_path) as f:\n",
    "    config = f.read()\n",
    "\n",
    "with open('model_config.config', 'w') as f:\n",
    "  \n",
    "  # Set labelmap path\n",
    "  config = re.sub('label_map_path: \".*?\"', \n",
    "             'label_map_path: \"{}\"'.format(labelmap_path), config)\n",
    "  \n",
    "  # Set fine_tune_checkpoint path\n",
    "  config = re.sub('fine_tune_checkpoint: \".*?\"',\n",
    "                  'fine_tune_checkpoint: \"{}\"'.format(fine_tune_checkpoint), config)\n",
    "  \n",
    "  # Set train tf-record file path\n",
    "  config = re.sub('(input_path: \".*?)(PATH_TO_BE_CONFIGURED)(.*?\")', \n",
    "                  'input_path: \"{}\"'.format(train_record_path), config)\n",
    "  \n",
    "  # Set test tf-record file path\n",
    "  config = re.sub('(input_path: \".*?)(PATH_TO_BE_CONFIGURED)(.*?\")', \n",
    "                  'input_path: \"{}\"'.format(test_record_path), config)\n",
    "  \n",
    "  # Set number of classes.\n",
    "  config = re.sub('num_classes: [0-9]+',\n",
    "                  'num_classes: {}'.format(2), config)\n",
    "  \n",
    "  # Set batch size\n",
    "  config = re.sub('batch_size: [0-9]+',\n",
    "                  'batch_size: {}'.format(batch_size), config)\n",
    "  \n",
    "  # Set training steps\n",
    "  config = re.sub('num_steps: [0-9]+',\n",
    "                  'num_steps: {}'.format(num_steps), config)\n",
    "  \n",
    "  # Set fine-tune checkpoint type to detection\n",
    "  config = re.sub('fine_tune_checkpoint_type: \"classification\"', \n",
    "             'fine_tune_checkpoint_type: \"{}\"'.format('detection'), config)\n",
    "  \n",
    "  f.write(config)"
   ]
  },
  {
   "cell_type": "code",
   "execution_count": null,
   "metadata": {
    "colab": {
     "base_uri": "https://localhost:8080/"
    },
    "executionInfo": {
     "elapsed": 252,
     "status": "ok",
     "timestamp": 1678723336017,
     "user": {
      "displayName": "Sam Lynch",
      "userId": "01186849635844537829"
     },
     "user_tz": 0
    },
    "id": "QV3iamWIfw9C",
    "outputId": "b62b0f65-04e9-4dec-c098-62c88d36caa5"
   },
   "outputs": [],
   "source": [
    "%cat model_config.config"
   ]
  },
  {
   "cell_type": "code",
   "execution_count": null,
   "metadata": {
    "colab": {
     "base_uri": "https://localhost:8080/"
    },
    "executionInfo": {
     "elapsed": 330,
     "status": "ok",
     "timestamp": 1678797242040,
     "user": {
      "displayName": "Sam Lynch",
      "userId": "01186849635844537829"
     },
     "user_tz": 0
    },
    "id": "GhXUZJwdg1bc",
    "outputId": "78d7d2b0-5692-42ea-d5a1-bdbb2bf62e01"
   },
   "outputs": [],
   "source": [
    "print(os.getcwd())\n",
    "!ls\n",
    "os.chdir('/content/drive/My Drive/models/research/object_detection')\n",
    "model_dir = 'training/'\n",
    "pipeline_config_path = 'model_config.config'"
   ]
  },
  {
   "cell_type": "code",
   "execution_count": null,
   "metadata": {
    "colab": {
     "base_uri": "https://localhost:8080/"
    },
    "executionInfo": {
     "elapsed": 6,
     "status": "ok",
     "timestamp": 1678797242041,
     "user": {
      "displayName": "Sam Lynch",
      "userId": "01186849635844537829"
     },
     "user_tz": 0
    },
    "id": "T1IZpQk1hKUd",
    "outputId": "931eb5fb-50a3-4f12-bdc5-7388d87f0604"
   },
   "outputs": [],
   "source": [
    "os.chdir('/content/drive/My Drive/models/research/object_detection')\n",
    "print(os.getcwd())\n",
    "!ls"
   ]
  },
  {
   "cell_type": "code",
   "execution_count": null,
   "metadata": {
    "colab": {
     "base_uri": "https://localhost:8080/"
    },
    "executionInfo": {
     "elapsed": 209742,
     "status": "ok",
     "timestamp": 1678798381887,
     "user": {
      "displayName": "Sam Lynch",
      "userId": "01186849635844537829"
     },
     "user_tz": 0
    },
    "id": "dJzP73lIhPEv",
    "outputId": "16104539-022e-466f-9a6c-15831640f01b"
   },
   "outputs": [],
   "source": [
    "batch_size = 12\n",
    "num_steps = 50000\n",
    "num_eval_steps = 1000\n",
    "!python model_main_tf2.py \\\n",
    "    --pipeline_config_path={pipeline_config_path} \\\n",
    "    --model_dir={model_dir} \\\n",
    "    --alsologtostderr \\\n",
    "    --num_train_steps={num_steps} \\\n",
    "    --sample_1_of_n_eval_examples=1 \\\n",
    "    --num_eval_steps={num_eval_steps}"
   ]
  }
 ],
 "metadata": {
  "accelerator": "GPU",
  "colab": {
   "authorship_tag": "ABX9TyPIITB5Ajf4fphVW4vMJbnY",
   "provenance": []
  },
  "gpuClass": "standard",
  "kernelspec": {
   "display_name": "Python 3 (ipykernel)",
   "language": "python",
   "name": "python3"
  },
  "language_info": {
   "codemirror_mode": {
    "name": "ipython",
    "version": 3
   },
   "file_extension": ".py",
   "mimetype": "text/x-python",
   "name": "python",
   "nbconvert_exporter": "python",
   "pygments_lexer": "ipython3",
   "version": "3.9.16"
  }
 },
 "nbformat": 4,
 "nbformat_minor": 1
}
